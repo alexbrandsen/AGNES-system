{
 "cells": [
  {
   "cell_type": "code",
   "execution_count": 23,
   "id": "f5473847-dd02-406c-95a2-315d5a8d4537",
   "metadata": {},
   "outputs": [],
   "source": [
    "import paramiko\n",
    "from datetime import datetime\n",
    "\n",
    "def start_index(source):\n",
    "    \"\"\"Remotely start the index on the webserver, for a specific source\"\"\"\n",
    "    \n",
    "    # connect to webserver via SSH with a SSH key\n",
    "    host = '136.144.205.98'\n",
    "    user = 'alexbrandsen'\n",
    "    port = 22\n",
    "    \n",
    "    sshcon = paramiko.SSHClient()  # will create the object\n",
    "    sshcon.set_missing_host_key_policy(paramiko.AutoAddPolicy()) # no known_hosts error\n",
    "    pkey = paramiko.RSAKey.from_private_key_file(\"/home/alex/.ssh/id_rsa\")\n",
    "    sshcon.connect(host, username=user, pkey=pkey) # no passwd needed\n",
    "\n",
    "    # get datetime, to put in logfile name\n",
    "    now = datetime.now()\n",
    "    datetime_string = now.strftime(\"%Y-%m-%d_%Hh%M\")\n",
    "    \n",
    "    # run command with nohup and dev/null to not wait for completion, and log to a file\n",
    "    #(as per https://stackoverflow.com/questions/29142/getting-ssh-to-execute-a-command-in-the-background-on-target-machine)\n",
    "    command = f\"nohup python3 /home/alexbrandsen/upload-json-to-elasticsearch.py {source} >json_import_logs/{source}_{datetime_string}.log 2>&1 </dev/null &\"\n",
    "    stdin, stdout, stderr = sshcon.exec_command(command)\n",
    "\n",
    "    for line in stdout.readlines():\n",
    "        print(line)\n",
    "    for line in stderr.readlines():\n",
    "        print(line)\n",
    "    \n",
    "    # close connection\n",
    "    sshcon.close()\n",
    "\n",
    "start_index('dans')"
   ]
  },
  {
   "cell_type": "code",
   "execution_count": null,
   "id": "52eef13e-440f-43e9-88f9-50c8e48b5bce",
   "metadata": {},
   "outputs": [],
   "source": []
  }
 ],
 "metadata": {
  "kernelspec": {
   "display_name": "Python 3 (ipykernel)",
   "language": "python",
   "name": "python3"
  },
  "language_info": {
   "codemirror_mode": {
    "name": "ipython",
    "version": 3
   },
   "file_extension": ".py",
   "mimetype": "text/x-python",
   "name": "python",
   "nbconvert_exporter": "python",
   "pygments_lexer": "ipython3",
   "version": "3.11.9"
  }
 },
 "nbformat": 4,
 "nbformat_minor": 5
}
